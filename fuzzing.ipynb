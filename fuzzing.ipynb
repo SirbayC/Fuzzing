{
 "cells": [
  {
   "cell_type": "markdown",
   "source": [
    "# Fuzzing\n",
    "## Introduction\n",
    "\n",
    "(Note, this is made to work on windows, using `wsl`)\n",
    "\n",
    "At its most basic form, fuzzing refers to feeding a string of **random characters** into a program, aiming to uncover vulnerabilities.\n",
    "\n",
    "The history of fuzzing comes from an assignment given by a professor to his students, in 1988. They were supposed to come up with a way of generating unpredictable character streams and, using them, test various UNIX utility functions.\n",
    "\n",
    "Let's take a look into their inner workings. First we will import necessary modules:"
   ],
   "metadata": {
    "collapsed": false
   },
   "id": "75a31c00cbf51854"
  },
  {
   "cell_type": "code",
   "execution_count": 61,
   "outputs": [],
   "source": [
    "import random\n",
    "from typing import Optional, Any, List, Tuple\n",
    "from typing import Union, Callable\n",
    "import time\n",
    "from types import FrameType, TracebackType\n",
    "import sys\n",
    "import traceback"
   ],
   "metadata": {
    "collapsed": false,
    "ExecuteTime": {
     "end_time": "2023-12-15T17:14:34.874348100Z",
     "start_time": "2023-12-15T17:14:34.815347900Z"
    }
   },
   "id": "1a9342cefac33010"
  },
  {
   "cell_type": "markdown",
   "source": [
    "First we will provide the basic implementation of a fuzzer:"
   ],
   "metadata": {
    "collapsed": false
   },
   "id": "e89e3c81ea93d3a"
  },
  {
   "cell_type": "code",
   "execution_count": 62,
   "outputs": [],
   "source": [
    "def fuzzer(max_length: int = 100, char_start: int = 32, char_range: int = 32) -> str:\n",
    "    \"\"\"A string of up to `max_length` characters\n",
    "       in the range [`char_start`, `char_start` + `char_range`)\"\"\"\n",
    "    \n",
    "    # generate a random string length for our output\n",
    "    string_length = random.randrange(0, max_length + 1)\n",
    "    \n",
    "    out = \"\"\n",
    "    for i in range(0, string_length):\n",
    "        # random.randrange(start, end) returns a random number in [start,end)\n",
    "        # chr(n) returns the character with ASCII code n -> note that we will also get non-alphanumerical characters\n",
    "        out += chr(random.randrange(char_start, char_start + char_range))\n",
    "    return out"
   ],
   "metadata": {
    "collapsed": false,
    "ExecuteTime": {
     "end_time": "2023-12-15T17:14:36.761748800Z",
     "start_time": "2023-12-15T17:14:36.724745600Z"
    }
   },
   "id": "731cb1b976066c70"
  },
  {
   "cell_type": "markdown",
   "source": [
    "Given its random nature, it can be seen that each run gives a different output:"
   ],
   "metadata": {
    "collapsed": false
   },
   "id": "614af246e64f9854"
  },
  {
   "cell_type": "code",
   "execution_count": 63,
   "outputs": [
    {
     "data": {
      "text/plain": "'5?5*.+17%;/(\"\"1?\\'8!-$)4#;()0/>5*8<:< :.\"<8//$3/7!:% 2+'"
     },
     "execution_count": 63,
     "metadata": {},
     "output_type": "execute_result"
    }
   ],
   "source": [
    "fuzzer()"
   ],
   "metadata": {
    "collapsed": false,
    "ExecuteTime": {
     "end_time": "2023-12-15T17:14:39.060081400Z",
     "start_time": "2023-12-15T17:14:38.995960100Z"
    }
   },
   "id": "8a2756110c2447f2"
  },
  {
   "cell_type": "markdown",
   "source": [
    "The method's parameters can be tweaked, for different behaviours. Let's look at how we can approach the following scenarios:\n",
    "- only lower case letters\n",
    "- arbitrary long decimal numbers"
   ],
   "metadata": {
    "collapsed": false
   },
   "id": "523c0a24804c8c25"
  },
  {
   "cell_type": "code",
   "execution_count": 64,
   "outputs": [
    {
     "name": "stdout",
     "output_type": "stream",
     "text": [
      "gaoyjewvrsloyivcxvawmlzvizktwowjmpnldnzcizxieihsxsuulayukzrskilrrxeivowabwepbwwgtmsxdxtkmgiggfhngsfqqhofibpbfkqafhjxkhcfrsvxnmvnauzpqjeudpdklfvozzczkfltfeypdwluuggeqebavmgdcncjdurqgdrwouthfqsdkotscvbuyywiqhgjvjvkbwvenybztllhfhaobwcwcadqeiwtxqzrvcmxymdwqpxpzukjtskagnsjrwikncyicwahtlsqomfkmohoskxcngomopedoenbvxynwglizzwxhhqnfinbcdpvyesbaicpnqeqqbcefhpqhsvwmrcrbdqovxzplvtoowhfvnfvhifqieilsitckrtpyqlgnuleu\n",
      "__________\n",
      "24391452067448026597506963120961491787173554797257923687849218149835509492404791\n"
     ]
    }
   ],
   "source": [
    "# ord(c) returns the ASCII code of character c\n",
    "print(fuzzer(1000, ord('a'), 26))\n",
    "print(\"__________\")\n",
    "print(fuzzer(100, ord('0'), 10))"
   ],
   "metadata": {
    "collapsed": false,
    "ExecuteTime": {
     "end_time": "2023-12-15T17:14:40.907880200Z",
     "start_time": "2023-12-15T17:14:40.843316400Z"
    }
   },
   "id": "10bd7a8221447608"
  },
  {
   "cell_type": "markdown",
   "source": [
    "## Fuzzing an external program\n",
    "Using the `subprocess` module, we can also test external programs with our generated input.\n",
    "- Note that this notebook was generated on Windows, thus running bash / unix commands requires first installing `Windows Subsystem for Linux`. Such commands should thus being with `wsl`. In case the command `bc` is not installed, one fix would be to enter `wsl` in CMD, then install `bc` with `sudo apt install bc`.\n",
    "\n",
    "We will be using the `bc` command, which takes as input various formats of operations:\n",
    "-   Input : `echo \"12+5\" | bc`\n",
    "    Output : 17\n",
    "-   Input: `echo \"var=10;var^=2;var\" | bc`\n",
    "    Output: 100\n",
    "-   Input: `echo 'n=8;m=10;if(n>m) print \"n is greater\" else print \"m is greater\" ' | bc -l`\n",
    "    Output: m is greater"
   ],
   "metadata": {
    "collapsed": false
   },
   "id": "f01e66b6fbfc8909"
  },
  {
   "cell_type": "code",
   "execution_count": 65,
   "outputs": [
    {
     "name": "stdout",
     "output_type": "stream",
     "text": [
      "m is greater\n"
     ]
    }
   ],
   "source": [
    "import subprocess\n",
    "\n",
    "input_content = 'n=8;m=10;if(n>m) print \"n is greater\" else print \"m is greater\" '\n",
    "\n",
    "# in this configuration, input requires a byte format (with a new line appended, since bc  )\n",
    "result = subprocess.run(\"wsl bc\", input=(input_content+\"\\n\").encode(), capture_output=True)\n",
    "\n",
    "print(result.stdout.decode(\"utf-8\"))\n",
    "print(result.stderr.decode(\"utf-8\"))"
   ],
   "metadata": {
    "collapsed": false,
    "ExecuteTime": {
     "end_time": "2023-12-15T17:14:52.127991300Z",
     "start_time": "2023-12-15T17:14:48.849959Z"
    }
   },
   "id": "3815c68b3271b938"
  },
  {
   "cell_type": "markdown",
   "source": [
    "Let's now test how the program behaves when testing it with some random input."
   ],
   "metadata": {
    "collapsed": false
   },
   "id": "50ea9a071d9f1145"
  },
  {
   "cell_type": "code",
   "execution_count": 36,
   "outputs": [],
   "source": [
    "from subprocess import CompletedProcess\n",
    "\n",
    "trials = 100\n",
    "program = \"bc\"\n",
    "runs = []\n",
    "for i in range(trials):\n",
    "    data = fuzzer()\n",
    "    result = subprocess.run(\"wsl \" + program, input=(data+\"\\n\").encode(), capture_output=True)\n",
    "    # decode the stdout and stderr for easier handling\n",
    "    runs.append((data, \n",
    "                 CompletedProcess(\n",
    "                     result.args,\n",
    "                     result.returncode, \n",
    "                     result.stdout.decode(\"utf-8\"),\n",
    "                     result.stderr.decode(\"utf-8\"))))\n"
   ],
   "metadata": {
    "collapsed": false,
    "ExecuteTime": {
     "end_time": "2023-12-15T17:14:26.025195500Z",
     "start_time": "2023-12-15T17:14:13.097092200Z"
    }
   },
   "id": "4cefccb52bfb067e"
  },
  {
   "cell_type": "markdown",
   "source": [
    "Let's check how many of these runs did not actually run into errors:"
   ],
   "metadata": {
    "collapsed": false
   },
   "id": "867f91ae65680e38"
  },
  {
   "cell_type": "code",
   "execution_count": 37,
   "outputs": [
    {
     "data": {
      "text/plain": "8"
     },
     "execution_count": 37,
     "metadata": {},
     "output_type": "execute_result"
    }
   ],
   "source": [
    "sum(1 for (data, result) in runs if result.stderr == \"\")"
   ],
   "metadata": {
    "collapsed": false,
    "ExecuteTime": {
     "end_time": "2023-12-15T17:14:26.042198700Z",
     "start_time": "2023-12-15T17:14:26.027197200Z"
    }
   },
   "id": "dbfb359fef636b4e"
  },
  {
   "cell_type": "markdown",
   "source": [
    "Due to the randomness, results vary, but generally we get very small numbers, which is expected given that we are actually providing random inputs. Let's analyze the results:"
   ],
   "metadata": {
    "collapsed": false
   },
   "id": "54f9e726c12d8e80"
  },
  {
   "cell_type": "code",
   "execution_count": 38,
   "outputs": [
    {
     "data": {
      "text/plain": "<Figure size 640x480 with 1 Axes>",
      "image/png": "[encoded data removed]"
     },
     "metadata": {},
     "output_type": "display_data"
    }
   ],
   "source": [
    "import matplotlib.pyplot as plt\n",
    "\n",
    "stderr_types = []\n",
    "other_errors = []\n",
    "no_errors = []\n",
    "for run in runs:\n",
    "    if run[1].stderr == \"\":\n",
    "        no_errors.append(run)\n",
    "        stderr_types.append(\"No error\")\n",
    "    elif \"illegal character\" in run[1].stderr:\n",
    "        stderr_types.append(\"illegal character\")\n",
    "    elif \"parse error\" in run[1].stderr:\n",
    "        stderr_types.append(\"parse error\")\n",
    "    elif \"syntax error\" in run[1].stderr:\n",
    "        stderr_types.append(\"syntax error\")\n",
    "    else:\n",
    "        other_errors.append(run)\n",
    "        stderr_types.append(\"other\")\n",
    "        \n",
    "# Plot histogram\n",
    "plt.hist(stderr_types, bins='auto', alpha=0.7, rwidth=0.85)\n",
    "plt.xlabel('Error Types')\n",
    "plt.ylabel('Frequency')\n",
    "plt.title('Histogram of Different Types of stderr')\n",
    "plt.show()"
   ],
   "metadata": {
    "collapsed": false,
    "ExecuteTime": {
     "end_time": "2023-12-15T17:14:26.136719800Z",
     "start_time": "2023-12-15T17:14:26.045197600Z"
    }
   },
   "id": "6b63095fcfe565a0"
  },
  {
   "cell_type": "markdown",
   "source": [
    "We can see that (usually) no special types of error are found. Let's have a look though at some of the runs with no reported errors:"
   ],
   "metadata": {
    "collapsed": false
   },
   "id": "98850b88413e3433"
  },
  {
   "cell_type": "code",
   "execution_count": 39,
   "outputs": [
    {
     "name": "stdout",
     "output_type": "stream",
     "text": [
      "('#10!.#$!>=0<7\\'&.2\"* 4,9;2$?>*>#)?45$\\'6: \\'\\'7<)5\"(?-?7(!/2+:32;,35!40&2<!-', CompletedProcess(args='wsl bc', returncode=0, stdout='', stderr=''))\n",
      "\n",
      "\n",
      "(';#(*\"21?1:>6<54%612<:.??\\'0;*!<;\\'9\\'0/7\\'.\\')/9#$*,)5+7\\'#*-:.&<$. > /6\\'#/3:8\\'4:6:+=', CompletedProcess(args='wsl bc', returncode=0, stdout='', stderr=''))\n",
      "\n",
      "\n",
      "('#', CompletedProcess(args='wsl bc', returncode=0, stdout='', stderr=''))\n",
      "\n",
      "\n",
      "(';#8(<63.1+2', CompletedProcess(args='wsl bc', returncode=0, stdout='', stderr=''))\n",
      "\n",
      "\n",
      "('737', CompletedProcess(args='wsl bc', returncode=0, stdout='737\\n', stderr=''))\n",
      "\n",
      "\n",
      "('.#8 ;57:&9+#0$5%8$*90,-6%*', CompletedProcess(args='wsl bc', returncode=0, stdout='0\\n', stderr=''))\n",
      "\n",
      "\n",
      "('#:', CompletedProcess(args='wsl bc', returncode=0, stdout='', stderr=''))\n",
      "\n",
      "\n",
      "('', CompletedProcess(args='wsl bc', returncode=0, stdout='', stderr=''))\n"
     ]
    }
   ],
   "source": [
    "for run in no_errors:\n",
    "    print(run)\n",
    "    print('\\n')"
   ],
   "metadata": {
    "collapsed": false,
    "ExecuteTime": {
     "end_time": "2023-12-15T17:14:26.153719800Z",
     "start_time": "2023-12-15T17:14:26.136719800Z"
    }
   },
   "id": "21d0d991a1bad304"
  },
  {
   "cell_type": "markdown",
   "source": [
    "In one instance, for example, given the input `#2<%;./<,4<;9)==:*$*/>(\"$5\")-7\",,6$$,=+=-1<6$#0,>`, no errors were reported, and the output was empty (this can be tested above). \n",
    "In another instance, given the input `3##2;65%/ 2`, the program outputs `3`.\n",
    "Whether this is desirable behaviour can be questioned."
   ],
   "metadata": {
    "collapsed": false
   },
   "id": "93b9d64e687c328d"
  },
  {
   "cell_type": "markdown",
   "source": [
    "Moreover, checking the return codes, all of them seem to be zero. This does suggest that even if it cannot provide an output, the output doesn't crash. This is a fix, as before, when the first fuzzers were found, the program was much less robust."
   ],
   "metadata": {
    "collapsed": false
   },
   "id": "cdc8aa50a4b22f52"
  },
  {
   "cell_type": "code",
   "execution_count": 40,
   "outputs": [
    {
     "data": {
      "text/plain": "100"
     },
     "execution_count": 40,
     "metadata": {},
     "output_type": "execute_result"
    }
   ],
   "source": [
    "sum(1 for (data, result) in runs if result.returncode == 0)"
   ],
   "metadata": {
    "collapsed": false,
    "ExecuteTime": {
     "end_time": "2023-12-15T17:14:26.285315200Z",
     "start_time": "2023-12-15T17:14:26.152719200Z"
    }
   },
   "id": "fdfd289ed90f65c3"
  },
  {
   "cell_type": "markdown",
   "source": [
    "## Bugs that can be found through fuzzing"
   ],
   "metadata": {
    "collapsed": false
   },
   "id": "5f783a114f82b152"
  },
  {
   "cell_type": "markdown",
   "source": [
    "### Error Handling\n",
    "We will first define a class that allows exceptions to occur without stopping the entire execution of the program;"
   ],
   "metadata": {
    "collapsed": false
   },
   "id": "50bbdb711144dc7e"
  },
  {
   "cell_type": "code",
   "execution_count": 41,
   "outputs": [],
   "source": [
    "class ExpectError:\n",
    "    \"\"\"Execute a code block expecting (and catching) an error.\"\"\"\n",
    "\n",
    "    def __init__(self, exc_type: Optional[type] = None, \n",
    "                 print_traceback: bool = True, mute: bool = False):\n",
    "        \"\"\"\n",
    "        Constructor. Expect an exception of type `exc_type` (`None`: any exception).\n",
    "        If `print_traceback` is set (default), print a traceback to stderr.\n",
    "        If `mute` is set (default: False), do not print anything.\n",
    "        \"\"\"\n",
    "        self.print_traceback = print_traceback\n",
    "        self.mute = mute\n",
    "        self.expected_exc_type = exc_type\n",
    "\n",
    "    def __enter__(self) -> Any:\n",
    "        \"\"\"Begin of `with` block\"\"\"\n",
    "        return self\n",
    "\n",
    "    def __exit__(self, exc_type: type, \n",
    "                 exc_value: BaseException, tb: TracebackType) -> Optional[bool]:\n",
    "        \"\"\"End of `with` block\"\"\"\n",
    "        if exc_type is None:\n",
    "            # No exception\n",
    "            return\n",
    "\n",
    "        if (self.expected_exc_type is not None\n",
    "            and exc_type != self.expected_exc_type):\n",
    "            raise  # Unexpected exception\n",
    "\n",
    "        # An exception occurred\n",
    "        if self.print_traceback:\n",
    "            lines = ''.join(\n",
    "                traceback.format_exception(exc_type,exc_value,tb)).strip()\n",
    "        else:\n",
    "            lines = traceback.format_exception_only(exc_type, exc_value)[-1].strip()\n",
    "\n",
    "        if not self.mute:\n",
    "            print(lines, \"(expected)\", file=sys.stderr)\n",
    "        return True  # Ignore it"
   ],
   "metadata": {
    "collapsed": false,
    "ExecuteTime": {
     "end_time": "2023-12-15T17:14:26.288295800Z",
     "start_time": "2023-12-15T17:14:26.168722500Z"
    }
   },
   "id": "d0ccc469b2ee68f"
  },
  {
   "cell_type": "markdown",
   "source": [
    "And now some example usage, with different parameter values:"
   ],
   "metadata": {
    "collapsed": false
   },
   "id": "97377f5f1f62fddd"
  },
  {
   "cell_type": "code",
   "execution_count": 42,
   "outputs": [
    {
     "name": "stdout",
     "output_type": "stream",
     "text": [
      "Run 1:\n",
      "Reached the end!\n"
     ]
    },
    {
     "name": "stderr",
     "output_type": "stream",
     "text": [
      "Traceback (most recent call last):\n",
      "  File \"C:\\Users\\Cosmin\\AppData\\Local\\Temp\\ipykernel_23112\\206402097.py\", line 7, in <module>\n",
      "    fail_test()\n",
      "  File \"C:\\Users\\Cosmin\\AppData\\Local\\Temp\\ipykernel_23112\\206402097.py\", line 4, in fail_test\n",
      "    x = 1 / 0\n",
      "ZeroDivisionError: division by zero (expected)\n"
     ]
    }
   ],
   "source": [
    "# example usage\n",
    "def fail_test() -> None:\n",
    "    # Trigger an exception\n",
    "    x = 1 / 0\n",
    "with ExpectError():\n",
    "    print(\"Run 1:\")\n",
    "    fail_test()\n",
    "print(\"Reached the end!\")"
   ],
   "metadata": {
    "collapsed": false,
    "ExecuteTime": {
     "end_time": "2023-12-15T17:14:26.303803100Z",
     "start_time": "2023-12-15T17:14:26.181759200Z"
    }
   },
   "id": "315f18e26427c11b"
  },
  {
   "cell_type": "code",
   "execution_count": 43,
   "outputs": [
    {
     "name": "stdout",
     "output_type": "stream",
     "text": [
      "Run 2:\n",
      "Reached the end!\n"
     ]
    }
   ],
   "source": [
    "with ExpectError(mute = True):\n",
    "    print(\"Run 2:\")\n",
    "    fail_test()\n",
    "print(\"Reached the end!\")"
   ],
   "metadata": {
    "collapsed": false,
    "ExecuteTime": {
     "end_time": "2023-12-15T17:14:26.316821900Z",
     "start_time": "2023-12-15T17:14:26.197306400Z"
    }
   },
   "id": "d64d7ef4e714b3b2"
  },
  {
   "cell_type": "code",
   "execution_count": 44,
   "outputs": [
    {
     "name": "stdout",
     "output_type": "stream",
     "text": [
      "Run 3:\n",
      "Reached the end!\n"
     ]
    },
    {
     "name": "stderr",
     "output_type": "stream",
     "text": [
      "ZeroDivisionError: division by zero (expected)\n"
     ]
    }
   ],
   "source": [
    "with ExpectError(print_traceback = False):\n",
    "    print(\"Run 3:\")\n",
    "    fail_test()\n",
    "print(\"Reached the end!\")"
   ],
   "metadata": {
    "collapsed": false,
    "ExecuteTime": {
     "end_time": "2023-12-15T17:14:26.320804300Z",
     "start_time": "2023-12-15T17:14:26.212291400Z"
    }
   },
   "id": "66b405964fd47a67"
  },
  {
   "cell_type": "markdown",
   "source": [
    "____________________\n",
    "Now, let's also define a class that allows for programs to be interrupted after their execution time exceeds a certain threshold:"
   ],
   "metadata": {
    "collapsed": false
   },
   "id": "d7ea9066841da40b"
  },
  {
   "cell_type": "code",
   "execution_count": 45,
   "outputs": [],
   "source": [
    "class GenericTimeout:\n",
    "    \"\"\"Execute a code block raising a timeout.\"\"\"\n",
    "\n",
    "    def __init__(self, timeout: Union[int, float]) -> None:\n",
    "        \"\"\"\n",
    "        Constructor. Interrupt execution after `timeout` seconds.\n",
    "        \"\"\"\n",
    "\n",
    "        self.seconds_before_timeout = timeout\n",
    "        self.original_trace_function: Optional[Callable] = None\n",
    "        self.end_time: Optional[float] = None\n",
    "\n",
    "    def check_time(self, frame: FrameType, event: str, arg: Any) -> Callable:\n",
    "        \"\"\"Tracing function\"\"\"\n",
    "        if self.original_trace_function is not None:\n",
    "            self.original_trace_function(frame, event, arg)\n",
    "\n",
    "        current_time = time.time()\n",
    "        if self.end_time and current_time >= self.end_time:\n",
    "            raise TimeoutError\n",
    "\n",
    "        return self.check_time\n",
    "\n",
    "    def __enter__(self) -> Any:\n",
    "        \"\"\"Begin of `with` block\"\"\"\n",
    "        start_time = time.time()\n",
    "        self.end_time = start_time + self.seconds_before_timeout\n",
    "\n",
    "        self.original_trace_function = sys.gettrace()\n",
    "        sys.settrace(self.check_time)\n",
    "        return self\n",
    "\n",
    "    def __exit__(self, exc_type: type, \n",
    "                 exc_value: BaseException, tb: TracebackType) -> Optional[bool]:\n",
    "        \"\"\"End of `with` block\"\"\"\n",
    "        self.cancel()\n",
    "        return None  # re-raise exception, if any\n",
    "\n",
    "    def cancel(self) -> None:\n",
    "        \"\"\"Cancel timeout\"\"\"\n",
    "        sys.settrace(self.original_trace_function)\n",
    "    \n",
    "class ExpectTimeout(GenericTimeout):\n",
    "    \"\"\"Execute a code block expecting (and catching) a timeout.\"\"\"\n",
    "\n",
    "    def __init__(self, timeout: Union[int, float],\n",
    "                 print_traceback: bool = True, mute: bool = False):\n",
    "        \"\"\"\n",
    "        Constructor. Interrupt execution after `seconds` seconds.\n",
    "        If `print_traceback` is set (default), print a traceback to stderr.\n",
    "        If `mute` is set (default: False), do not print anything.\n",
    "        \"\"\"\n",
    "        super().__init__(timeout)\n",
    "\n",
    "        self.print_traceback = print_traceback\n",
    "        self.mute = mute\n",
    "\n",
    "    def __exit__(self, exc_type: type,\n",
    "                 exc_value: BaseException, tb: TracebackType) -> Optional[bool]:\n",
    "        \"\"\"End of `with` block\"\"\"\n",
    "\n",
    "        super().__exit__(exc_type, exc_value, tb)\n",
    "\n",
    "        if exc_type is None:\n",
    "            return\n",
    "\n",
    "        # An exception occurred\n",
    "        if self.print_traceback:\n",
    "            lines = ''.join(\n",
    "                traceback.format_exception(exc_type,exc_value,tb)).strip()\n",
    "        else:\n",
    "            lines = traceback.format_exception_only(exc_type, exc_value)[-1].strip()\n",
    "\n",
    "        if not self.mute:\n",
    "            print(lines, \"(expected)\", file=sys.stderr)\n",
    "\n",
    "        return True  # Ignore exception"
   ],
   "metadata": {
    "collapsed": false,
    "ExecuteTime": {
     "end_time": "2023-12-15T17:14:26.322804600Z",
     "start_time": "2023-12-15T17:14:26.232290400Z"
    }
   },
   "id": "5697c6a8e315d8f3"
  },
  {
   "cell_type": "markdown",
   "source": [
    "Again, with an example usage (note that the same parameters as before can be used to define whether a traceback or the exception itself is printed):"
   ],
   "metadata": {
    "collapsed": false
   },
   "id": "fbee28b9a9defbb4"
  },
  {
   "cell_type": "code",
   "execution_count": 46,
   "outputs": [
    {
     "name": "stdout",
     "output_type": "stream",
     "text": [
      "Start\n"
     ]
    },
    {
     "name": "stderr",
     "output_type": "stream",
     "text": [
      "KeyboardInterrupt (expected)\n"
     ]
    }
   ],
   "source": [
    "def long_running_test() -> None:\n",
    "    print(\"Start\")\n",
    "    for i in range(10):\n",
    "        time.sleep(1)\n",
    "        print(i+1, \"seconds have passed\")\n",
    "    print(\"End\")\n",
    "    \n",
    "with ExpectTimeout(5, print_traceback = False):\n",
    "    long_running_test()"
   ],
   "metadata": {
    "collapsed": false,
    "ExecuteTime": {
     "end_time": "2023-12-15T17:14:27.272792700Z",
     "start_time": "2023-12-15T17:14:26.242290500Z"
    }
   },
   "id": "2aacdc0f4d485178"
  },
  {
   "cell_type": "markdown",
   "source": [
    "_________________________\n",
    "### Using the tools\n",
    "Now, we can easily simulate errors and how they can be caught in python:\n",
    "\n",
    "#### Buffer Overflows"
   ],
   "metadata": {
    "collapsed": false
   },
   "id": "e8a13cb091d7572d"
  },
  {
   "cell_type": "code",
   "execution_count": 47,
   "outputs": [
    {
     "name": "stderr",
     "output_type": "stream",
     "text": [
      "ValueError (expected)\n"
     ]
    }
   ],
   "source": [
    "def crash_if_too_long(s):\n",
    "    buffer = \"Thursday\"\n",
    "    if len(s) > len(buffer):\n",
    "        raise ValueError\n",
    "\n",
    "trials = 100\n",
    "with ExpectError(print_traceback = False):\n",
    "    for i in range(trials):\n",
    "        s = fuzzer()\n",
    "        crash_if_too_long(s)"
   ],
   "metadata": {
    "collapsed": false,
    "ExecuteTime": {
     "end_time": "2023-12-15T17:14:27.348005200Z",
     "start_time": "2023-12-15T17:14:27.273793100Z"
    }
   },
   "id": "cac88b115adfbe5d"
  },
  {
   "cell_type": "markdown",
   "source": [
    "#### Missing Error Checks\n",
    "Consider the following code in C:\n",
    "```c\n",
    "while (getchar() != ' ');\n",
    "```\n",
    "If no space is present, then the program will keep on reading, since the C function getchar() returns a special `EOF` file when no more input is available."
   ],
   "metadata": {
    "collapsed": false
   },
   "id": "3a43448955beb597"
  },
  {
   "cell_type": "code",
   "execution_count": 48,
   "outputs": [
    {
     "name": "stderr",
     "output_type": "stream",
     "text": [
      "TimeoutError (expected)\n"
     ]
    }
   ],
   "source": [
    "def hang_if_no_space(s):\n",
    "    i = 0\n",
    "    while True:\n",
    "        if i < len(s):\n",
    "            if s[i] == ' ':\n",
    "                break\n",
    "        i += 1\n",
    "        \n",
    "trials = 100\n",
    "with ExpectTimeout(2, print_traceback = False):\n",
    "    for i in range(trials):\n",
    "        s = fuzzer()\n",
    "        hang_if_no_space(s)"
   ],
   "metadata": {
    "collapsed": false,
    "ExecuteTime": {
     "end_time": "2023-12-15T17:14:29.304766Z",
     "start_time": "2023-12-15T17:14:27.290797400Z"
    }
   },
   "id": "ebf054a5a59b5a49"
  },
  {
   "cell_type": "markdown",
   "source": [
    "#### Rogue Numbers\n",
    "Testing against unexpectedly large numbers:"
   ],
   "metadata": {
    "collapsed": false
   },
   "id": "aa57f89d1591e26e"
  },
  {
   "cell_type": "code",
   "execution_count": 49,
   "outputs": [
    {
     "name": "stderr",
     "output_type": "stream",
     "text": [
      "ValueError (expected)\n"
     ]
    }
   ],
   "source": [
    "def collapse_if_too_large(s):\n",
    "    if int(s) > 1000:\n",
    "        raise ValueError\n",
    "long_number = fuzzer(100, ord('0'), 10)\n",
    "with ExpectError(print_traceback = False):\n",
    "    collapse_if_too_large(long_number)"
   ],
   "metadata": {
    "collapsed": false,
    "ExecuteTime": {
     "end_time": "2023-12-15T17:14:29.377797600Z",
     "start_time": "2023-12-15T17:14:29.303766200Z"
    }
   },
   "id": "cfb2eb3148831a95"
  },
  {
   "cell_type": "markdown",
   "source": [
    "#### Information leaks\n",
    "Accessing invalid memory locations can often lead to memory safety violations. To remedy this, address sanitizers (using fuzzing) can be run to test programs. However, leaks can also occur when valid addresses are accessed.\n",
    "\n",
    "Take the following python code (replicating the HeartBleed bug, but memory spillage still occurs within regular array bounds ) :"
   ],
   "metadata": {
    "collapsed": false
   },
   "id": "78b4d39e82335b23"
  },
  {
   "cell_type": "code",
   "execution_count": 50,
   "outputs": [],
   "source": [
    "secrets = (\"<space for reply>\" + fuzzer(100) +\n",
    "           \"<secret-certificate>\" + fuzzer(100) +\n",
    "           \"<secret-key>\" + fuzzer(100) + \"<other-secrets>\")\n",
    "\n",
    "uninitialized_memory_marker = \"deadbeef\"\n",
    "while len(secrets) < 2048:\n",
    "    secrets += uninitialized_memory_marker\n",
    "    \n",
    "# type of service which would be used to check if a server is still running\n",
    "def heartbeat(reply: str, length: int, memory: str) -> str:\n",
    "    # Store reply in memory\n",
    "    memory = reply + memory[len(reply):]\n",
    "\n",
    "    # Send back heartbeat (essentially sends the first (length) characters from memory, which should theoretically contain the reply precisely\n",
    "    s = \"\"\n",
    "    for i in range(length):\n",
    "        s += memory[i]\n",
    "    return s"
   ],
   "metadata": {
    "collapsed": false,
    "ExecuteTime": {
     "end_time": "2023-12-15T17:14:29.379812900Z",
     "start_time": "2023-12-15T17:14:29.319765900Z"
    }
   },
   "id": "ab585c442ef63d57"
  },
  {
   "cell_type": "code",
   "execution_count": 51,
   "outputs": [
    {
     "name": "stdout",
     "output_type": "stream",
     "text": [
      "tomato\n"
     ]
    }
   ],
   "source": [
    "print(heartbeat(\"tomato\", 6, memory=secrets))"
   ],
   "metadata": {
    "collapsed": false,
    "ExecuteTime": {
     "end_time": "2023-12-15T17:14:29.380808800Z",
     "start_time": "2023-12-15T17:14:29.334765900Z"
    }
   },
   "id": "d6ecefb315b1f4b"
  },
  {
   "cell_type": "code",
   "execution_count": 52,
   "outputs": [
    {
     "data": {
      "text/plain": "'housee for reply>+(<>!>%%*2-==-?#>;:5>\"?8\\' 25%;!.4->%#;%4%&++<9#:9'"
     },
     "execution_count": 52,
     "metadata": {},
     "output_type": "execute_result"
    }
   ],
   "source": [
    "# but if we specify a different length....\n",
    "heartbeat(\"house\", 66, memory=secrets)"
   ],
   "metadata": {
    "collapsed": false,
    "ExecuteTime": {
     "end_time": "2023-12-15T17:14:29.386809200Z",
     "start_time": "2023-12-15T17:14:29.349766800Z"
    }
   },
   "id": "4ceb8620466c8a28"
  },
  {
   "cell_type": "markdown",
   "source": [
    "A potential fix would be to manually check that important information, nor uninitialized memory does not spill out:"
   ],
   "metadata": {
    "collapsed": false
   },
   "id": "4b94dd6a19ff0c50"
  },
  {
   "cell_type": "code",
   "execution_count": 53,
   "outputs": [
    {
     "name": "stderr",
     "output_type": "stream",
     "text": [
      "Traceback (most recent call last):\n",
      "  File \"C:\\Users\\Cosmin\\AppData\\Local\\Temp\\ipykernel_23112\\2358597318.py\", line 4, in <module>\n",
      "    assert not s.find(uninitialized_memory_marker)\n",
      "AssertionError (expected)\n",
      "Traceback (most recent call last):\n",
      "  File \"C:\\Users\\Cosmin\\AppData\\Local\\Temp\\ipykernel_23112\\2358597318.py\", line 8, in <module>\n",
      "    assert not s.find(\"secret\")\n",
      "AssertionError (expected)\n"
     ]
    }
   ],
   "source": [
    "with ExpectError():\n",
    "    for i in range(10):\n",
    "        s = heartbeat(fuzzer(), random.randint(1, 500), memory=secrets)\n",
    "        assert not s.find(uninitialized_memory_marker)\n",
    "with ExpectError():\n",
    "    for i in range(10):\n",
    "        s = heartbeat(fuzzer(), random.randint(1, 500), memory=secrets)\n",
    "        assert not s.find(\"secret\")"
   ],
   "metadata": {
    "collapsed": false,
    "ExecuteTime": {
     "end_time": "2023-12-15T17:14:29.390809Z",
     "start_time": "2023-12-15T17:14:29.366766800Z"
    }
   },
   "id": "5f0ae9f7315cdd3d"
  },
  {
   "cell_type": "markdown",
   "source": [
    "In the previous code, a **static code checker** has also been used:\n",
    "```python\n",
    "def heartbeat(reply: str, length: int, memory: str) -> str: TODO\n",
    "```\n",
    "This insures that parameter types and the return string are right, as soon as types of arguments are properly declared."
   ],
   "metadata": {
    "collapsed": false
   },
   "id": "2d84d99b714ced9e"
  },
  {
   "cell_type": "code",
   "execution_count": 54,
   "outputs": [
    {
     "name": "stderr",
     "output_type": "stream",
     "text": [
      "TypeError: 'str' object cannot be interpreted as an integer (expected)\n"
     ]
    }
   ],
   "source": [
    "with ExpectError(print_traceback = False):\n",
    "    s = heartbeat(\"string\", \"notAnInt\", \"String\") # note the highlighted warning"
   ],
   "metadata": {
    "collapsed": false,
    "ExecuteTime": {
     "end_time": "2023-12-15T17:14:29.415318200Z",
     "start_time": "2023-12-15T17:14:29.382809700Z"
    }
   },
   "id": "9f60bb8ab01d93ac"
  },
  {
   "cell_type": "markdown",
   "source": [
    "## A fuzzing architecture\n",
    "We are going to define some additional utility classes to simplify testing."
   ],
   "metadata": {
    "collapsed": false
   },
   "id": "5db479446a7489a6"
  },
  {
   "cell_type": "code",
   "execution_count": 55,
   "outputs": [],
   "source": [
    "Outcome = str\n",
    "class Runner:\n",
    "    \"\"\"Base class for testing inputs.\"\"\"\n",
    "\n",
    "    # Test outcomes\n",
    "    PASS = \"PASS\"\n",
    "    FAIL = \"FAIL\"\n",
    "    UNRESOLVED = \"UNRESOLVED\"\n",
    "\n",
    "    def __init__(self) -> None:\n",
    "        \"\"\"Initialize\"\"\"\n",
    "        pass\n",
    "\n",
    "    def run(self, inp: str) -> Any:\n",
    "        \"\"\"Run the runner with the given input\"\"\"\n",
    "        return (inp, Runner.UNRESOLVED)\n",
    "    \n",
    "# ___ inheriting classes ___\n",
    "class PrintRunner(Runner):\n",
    "    \"\"\"Simple runner, printing the input.\"\"\"\n",
    "\n",
    "    def run(self, inp) -> Any:\n",
    "        \"\"\"Print the given input\"\"\"\n",
    "        print(inp)\n",
    "        return (inp, Runner.UNRESOLVED)\n",
    "    \n",
    "class ProgramRunner(Runner):\n",
    "    \"\"\"Test a program with inputs.\"\"\"\n",
    "    program = \"\"\n",
    "\n",
    "    def __init__(self, program: Union[str, List[str]]) -> None:\n",
    "        \"\"\"Initialize.\n",
    "           `program` is a program spec as passed to `subprocess.run()`\"\"\"\n",
    "        super().__init__()\n",
    "        self.program = program\n",
    "\n",
    "    def run_process(self, inp: str = \"\") -> subprocess.CompletedProcess:\n",
    "        \"\"\"Run the program with `inp` as input.\n",
    "           Return result of `subprocess.run()`.\"\"\"\n",
    "        temp_result = subprocess.run(\n",
    "            \"wsl \" + self.program, \n",
    "            input=(inp).encode(), \n",
    "            stdout=subprocess.PIPE,\n",
    "            stderr=subprocess.PIPE)\n",
    "        # decode the stdout and stderr for easier handling\n",
    "        return CompletedProcess(\n",
    "                     temp_result.args,\n",
    "                     temp_result.returncode, \n",
    "                     temp_result.stdout.decode(\"utf-8\"),\n",
    "                     temp_result.stderr.decode(\"utf-8\"))\n",
    "\n",
    "    def run(self, inp: str = \"\") -> Tuple[subprocess.CompletedProcess, Outcome]:\n",
    "        \"\"\"Run the program with `inp` as input.  \n",
    "           Return test outcome based on result of `subprocess.run()`.\"\"\"\n",
    "        result = self.run_process(inp)\n",
    "\n",
    "        if result.returncode == 0:\n",
    "            outcome = self.PASS\n",
    "        elif result.returncode < 0:\n",
    "            outcome = self.FAIL\n",
    "        else:\n",
    "            outcome = self.UNRESOLVED\n",
    "\n",
    "        return (result, outcome)"
   ],
   "metadata": {
    "collapsed": false,
    "ExecuteTime": {
     "end_time": "2023-12-15T17:14:29.534834300Z",
     "start_time": "2023-12-15T17:14:29.396319900Z"
    }
   },
   "id": "5e2c3f6ae21aed13"
  },
  {
   "cell_type": "markdown",
   "source": [
    "Let's test our implementation with some basic function:"
   ],
   "metadata": {
    "collapsed": false
   },
   "id": "5ce293f5dbe2f858"
  },
  {
   "cell_type": "code",
   "execution_count": 56,
   "outputs": [
    {
     "data": {
      "text/plain": "(CompletedProcess(args='wsl cat', returncode=0, stdout='hello', stderr=''),\n 'PASS')"
     },
     "execution_count": 56,
     "metadata": {},
     "output_type": "execute_result"
    }
   ],
   "source": [
    "cat = ProgramRunner(program=\"cat\")\n",
    "cat.run(\"hello\")"
   ],
   "metadata": {
    "collapsed": false,
    "ExecuteTime": {
     "end_time": "2023-12-15T17:14:29.563860700Z",
     "start_time": "2023-12-15T17:14:29.412317800Z"
    }
   },
   "id": "24448f54ce2dd7b8"
  },
  {
   "cell_type": "code",
   "execution_count": 57,
   "outputs": [],
   "source": [
    "class Fuzzer:\n",
    "    \"\"\"Base class for fuzzers.\"\"\"\n",
    "\n",
    "    def __init__(self) -> None:\n",
    "        \"\"\"Constructor\"\"\"\n",
    "        pass\n",
    "\n",
    "    def fuzz(self) -> str:\n",
    "        \"\"\"Return fuzz input\"\"\"\n",
    "        return \"\"\n",
    "\n",
    "    def run(self, runner: Runner = Runner()) -> Tuple[subprocess.CompletedProcess, Outcome]:\n",
    "        \"\"\"Run `runner` with fuzz input\"\"\"\n",
    "        return runner.run(self.fuzz())\n",
    "\n",
    "    def runs(self, runner: Runner = PrintRunner(), trials: int = 10) -> List[Tuple[subprocess.CompletedProcess, Outcome]]:\n",
    "        \"\"\"Run `runner` with fuzz input, `trials` times\"\"\"\n",
    "        return [self.run(runner) for i in range(trials)]\n",
    "    \n",
    "class RandomFuzzer(Fuzzer):\n",
    "    \"\"\"Produce random inputs.\"\"\"\n",
    "\n",
    "    def __init__(self, min_length: int = 10, max_length: int = 100, char_start: int = 32, char_range: int = 32) -> None:\n",
    "        \"\"\"Produce strings of `min_length` to `max_length` characters\n",
    "           in the range [`char_start`, `char_start` + `char_range`)\"\"\"\n",
    "        super().__init__()\n",
    "        self.min_length = min_length\n",
    "        self.max_length = max_length\n",
    "        self.char_start = char_start\n",
    "        self.char_range = char_range\n",
    "\n",
    "    def fuzz(self) -> str:\n",
    "        string_length = random.randrange(self.min_length, self.max_length + 1)\n",
    "        out = \"\"\n",
    "        for i in range(0, string_length):\n",
    "            out += chr(random.randrange(self.char_start,\n",
    "                                        self.char_start + self.char_range))\n",
    "        return out"
   ],
   "metadata": {
    "collapsed": false,
    "ExecuteTime": {
     "end_time": "2023-12-15T17:14:29.612347400Z",
     "start_time": "2023-12-15T17:14:29.556834800Z"
    }
   },
   "id": "a3ab6c5c447579a4"
  },
  {
   "cell_type": "markdown",
   "source": [
    "Of course, the `RandomFuzzer` can be used, as before, to generate random strings:"
   ],
   "metadata": {
    "collapsed": false
   },
   "id": "dbfe8bb75efa41ad"
  },
  {
   "cell_type": "code",
   "execution_count": 58,
   "outputs": [
    {
     "name": "stdout",
     "output_type": "stream",
     "text": [
      "3?&& =&117:&<?2\"#$55\n",
      "9626713%=&035>!)$5/'\n",
      ",<82/><?)'7%.081$:&%\n",
      "!0\"2%:#/12&=5%<%35>+\n",
      "2! !:=:#=?79#5&+;;-?\n",
      "36 ?13=?43/03517%83*\n",
      "4.:1,35 /#&>&\"&)>!#\"\n",
      "'>051)((1-==5+7$,7;,\n",
      "9.05!\"03=91?:1=7\"3)#\n",
      "<-4#>4$=)-5,35#&\">13\n"
     ]
    }
   ],
   "source": [
    "random_fuzzer = RandomFuzzer(min_length=20, max_length=20)\n",
    "for i in range(10):\n",
    "    print(random_fuzzer.fuzz())"
   ],
   "metadata": {
    "collapsed": false,
    "ExecuteTime": {
     "end_time": "2023-12-15T17:14:29.614347800Z",
     "start_time": "2023-12-15T17:14:29.570834300Z"
    }
   },
   "id": "ac11a9f8353c9373"
  },
  {
   "cell_type": "markdown",
   "source": [
    "But, to simplify the process, one can directly run the fuzzer on the (predefined) program runner:"
   ],
   "metadata": {
    "collapsed": false
   },
   "id": "d748b066012d320a"
  },
  {
   "cell_type": "code",
   "execution_count": 59,
   "outputs": [
    {
     "data": {
      "text/plain": "(CompletedProcess(args='wsl cat', returncode=0, stdout='&;=.&>:91-&),!* \"62;', stderr=''),\n 'PASS')"
     },
     "execution_count": 59,
     "metadata": {},
     "output_type": "execute_result"
    }
   ],
   "source": [
    "random_fuzzer.run(cat)"
   ],
   "metadata": {
    "collapsed": false,
    "ExecuteTime": {
     "end_time": "2023-12-15T17:14:29.748862600Z",
     "start_time": "2023-12-15T17:14:29.583840100Z"
    }
   },
   "id": "ee84c91e35825712"
  },
  {
   "cell_type": "markdown",
   "source": [
    "Or, to perform multiple runs:"
   ],
   "metadata": {
    "collapsed": false
   },
   "id": "35baf5d8a89faf60"
  },
  {
   "cell_type": "code",
   "execution_count": 60,
   "outputs": [
    {
     "data": {
      "text/plain": "[(CompletedProcess(args='wsl cat', returncode=0, stdout=\"<837'1=(-# 1)::'0-2?\", stderr=''),\n  'PASS'),\n (CompletedProcess(args='wsl cat', returncode=0, stdout='=<\", ,9; 0?)+;3%=!1*', stderr=''),\n  'PASS'),\n (CompletedProcess(args='wsl cat', returncode=0, stdout='<\\'5*?5-7!94.\\'*&4, 8\"', stderr=''),\n  'PASS')]"
     },
     "execution_count": 60,
     "metadata": {},
     "output_type": "execute_result"
    }
   ],
   "source": [
    "random_fuzzer.runs(cat, 3)"
   ],
   "metadata": {
    "collapsed": false,
    "ExecuteTime": {
     "end_time": "2023-12-15T17:14:30.230134400Z",
     "start_time": "2023-12-15T17:14:29.739863400Z"
    }
   },
   "id": "33a6cb8ab485806b"
  },
  {
   "cell_type": "markdown",
   "source": [
    "# Code Coverage\n",
    "Testing can be divided into two categories, based on how we come up with the actual tests:\n",
    "   - **Black-box** testing, where tests are derived from the specification\n",
    "   - **White-box** testing, where tests are derived from the implementation\n",
    "<br>\n",
    "\n",
    "The latter actually are of interest when discussing coverage of structural features of the code.\n",
    "There are numerous coverage metrics and there exists vast literature on different techniques that can be used to come up with test, achieving, for example, full branch / statement / MCDC coverage.\n",
    "\n",
    "Yet, fuzzing can go beyond the limits of traditional testing, even if we don't check the correctness of our results against an _oracle_ (a pre-defined result checker).\n",
    "\n",
    "To exemplify, we can use fuzzing to test some CGI-Decode function, which should turn `Hello%2c+world%21` into `Hello, world!`:\n"
   ],
   "metadata": {
    "collapsed": false
   },
   "id": "c16e7ddf6d0283f4"
  },
  {
   "cell_type": "code",
   "execution_count": 67,
   "outputs": [],
   "source": [
    "def cgi_decode(s: str) -> str:\n",
    "    \"\"\"Decode the CGI-encoded string `s`:\n",
    "       * replace '+' by ' '\n",
    "       * replace \"%xx\" by the character with hex number xx.\n",
    "       Return the decoded string.  Raise `ValueError` for invalid inputs.\"\"\"\n",
    "\n",
    "    # Mapping of hex digits to their integer values\n",
    "    hex_values = {\n",
    "        '0': 0, '1': 1, '2': 2, '3': 3, '4': 4,\n",
    "        '5': 5, '6': 6, '7': 7, '8': 8, '9': 9,\n",
    "        'a': 10, 'b': 11, 'c': 12, 'd': 13, 'e': 14, 'f': 15,\n",
    "        'A': 10, 'B': 11, 'C': 12, 'D': 13, 'E': 14, 'F': 15,\n",
    "    }\n",
    "\n",
    "    t = \"\"\n",
    "    i = 0\n",
    "    while i < len(s):\n",
    "        c = s[i]\n",
    "        if c == '+':\n",
    "            t += ' '\n",
    "        elif c == '%':\n",
    "            digit_high, digit_low = s[i + 1], s[i + 2]\n",
    "            i += 2\n",
    "            if digit_high in hex_values and digit_low in hex_values:\n",
    "                v = hex_values[digit_high] * 16 + hex_values[digit_low]\n",
    "                t += chr(v)\n",
    "            else:\n",
    "                raise ValueError(\"Invalid encoding\")\n",
    "        else:\n",
    "            t += c\n",
    "        i += 1\n",
    "    return t"
   ],
   "metadata": {
    "collapsed": false,
    "ExecuteTime": {
     "end_time": "2023-12-15T17:50:11.877959300Z",
     "start_time": "2023-12-15T17:50:11.861954100Z"
    }
   },
   "id": "e717bf251ad64be1"
  },
  {
   "cell_type": "markdown",
   "source": [
    "We will run our test 100 times with the (random) inputs:"
   ],
   "metadata": {
    "collapsed": false
   },
   "id": "6fe6e1504ba5f3b0"
  },
  {
   "cell_type": "code",
   "execution_count": 74,
   "outputs": [
    {
     "name": "stderr",
     "output_type": "stream",
     "text": [
      "Traceback (most recent call last):\n",
      "  File \"C:\\Users\\Cosmin\\AppData\\Local\\Temp\\ipykernel_23112\\99842176.py\", line 5, in <module>\n",
      "    cgi_decode(s)\n",
      "  File \"C:\\Users\\Cosmin\\AppData\\Local\\Temp\\ipykernel_23112\\4072079982.py\", line 22, in cgi_decode\n",
      "    digit_high, digit_low = s[i + 1], s[i + 2]\n",
      "IndexError: string index out of range (expected)\n"
     ]
    }
   ],
   "source": [
    "\n",
    "with ExpectError():\n",
    "    for i in range(100):\n",
    "        try:\n",
    "            s = fuzzer()\n",
    "            cgi_decode(s)\n",
    "        except ValueError:\n",
    "            pass"
   ],
   "metadata": {
    "collapsed": false,
    "ExecuteTime": {
     "end_time": "2023-12-15T18:01:15.696858400Z",
     "start_time": "2023-12-15T18:01:15.673854100Z"
    }
   },
   "id": "f74a379e3dbe9411"
  },
  {
   "cell_type": "markdown",
   "source": [
    "And, the code crashed! Let's check the input that caused this behaviour."
   ],
   "metadata": {
    "collapsed": false
   },
   "id": "ed8b4aa884d7b844"
  },
  {
   "cell_type": "code",
   "execution_count": 73,
   "outputs": [
    {
     "name": "stdout",
     "output_type": "stream",
     "text": [
      ".5/=+'=/,*45 =!>0260*5?%<\n"
     ]
    }
   ],
   "source": [
    "print(s)"
   ],
   "metadata": {
    "collapsed": false,
    "ExecuteTime": {
     "end_time": "2023-12-15T17:53:28.263473700Z",
     "start_time": "2023-12-15T17:53:28.247476200Z"
    }
   },
   "id": "11906cd0b4922b1b"
  },
  {
   "cell_type": "markdown",
   "source": [
    "We have thus found a bug - after `%` two characters are expected, but this is not checked. Such an error can also be found in other implementations of our program, for example in C - potentially leading to some read out of bounds issue:\n",
    "```c\n",
    "int digit_high = *++s;\n",
    "int digit_low = *++s;\n",
    "```\n",
    "What is particular in this case is that a strong test suite can be manually devised for this program, which achieves complete path / branch coverage, yet this bug can remain uncovered."
   ],
   "metadata": {
    "collapsed": false
   },
   "id": "698118edee13159"
  },
  {
   "cell_type": "markdown",
   "source": [
    "# Mutation-based fuzzing\n",
    "\n",
    "When testing real-world programs, it is often needed to have inputs in a certain format, which, with the random fuzzer we currently have, would take years to produce strings in the right format (say, for a URL).\n",
    "\n",
    "What might then help would be to start from a valid input, and randomy mutate it."
   ],
   "metadata": {
    "collapsed": false
   },
   "id": "29a908001024e4cb"
  },
  {
   "cell_type": "code",
   "execution_count": 76,
   "outputs": [],
   "source": [
    "def delete_random_character(s: str) -> str:\n",
    "    \"\"\"Returns s with a random character deleted\"\"\"\n",
    "    if s == \"\":\n",
    "        return s\n",
    "\n",
    "    pos = random.randint(0, len(s) - 1)\n",
    "    # print(\"Deleting\", repr(s[pos]), \"at\", pos)\n",
    "    return s[:pos] + s[pos + 1:]\n",
    "\n",
    "def insert_random_character(s: str) -> str:\n",
    "    \"\"\"Returns s with a random character inserted\"\"\"\n",
    "    pos = random.randint(0, len(s))\n",
    "    random_character = chr(random.randrange(32, 127))\n",
    "    # print(\"Inserting\", repr(random_character), \"at\", pos)\n",
    "    return s[:pos] + random_character + s[pos:]\n",
    "\n",
    "def flip_random_character(s):\n",
    "    \"\"\"Returns s with a random bit flipped in a random position\"\"\"\n",
    "    if s == \"\":\n",
    "        return s\n",
    "\n",
    "    pos = random.randint(0, len(s) - 1)\n",
    "    c = s[pos]\n",
    "    bit = 1 << random.randint(0, 6)\n",
    "    new_c = chr(ord(c) ^ bit)\n",
    "    # print(\"Flipping\", bit, \"in\", repr(c) + \", giving\", repr(new_c))\n",
    "    return s[:pos] + new_c + s[pos + 1:]\n",
    "\n",
    "def mutate(s: str) -> str:\n",
    "    \"\"\"Return s with a random mutation applied\"\"\"\n",
    "    mutators = [\n",
    "        delete_random_character,\n",
    "        insert_random_character,\n",
    "        flip_random_character\n",
    "    ]\n",
    "    mutator = random.choice(mutators)\n",
    "    # print(mutator)\n",
    "    return mutator(s)"
   ],
   "metadata": {
    "collapsed": false,
    "ExecuteTime": {
     "end_time": "2023-12-15T18:14:02.078642800Z",
     "start_time": "2023-12-15T18:14:02.064139700Z"
    }
   },
   "id": "faf4cba65f09a236"
  },
  {
   "cell_type": "code",
   "execution_count": 77,
   "outputs": [
    {
     "name": "stdout",
     "output_type": "stream",
     "text": [
      "'A quick brownfox'\n",
      "'A quick br own fox'\n",
      "'A$quick brown fox'\n",
      "'A quick brosn fox'\n",
      "'A quicc brown fox'\n",
      "'A uick brown fox'\n",
      "'A quick broewn fox'\n",
      "'A quick brgwn fox'\n",
      "'A quick bDrown fox'\n",
      "'A quick brownfox'\n"
     ]
    }
   ],
   "source": [
    "for i in range(10):\n",
    "    print(repr(mutate(\"A quick brown fox\")))"
   ],
   "metadata": {
    "collapsed": false,
    "ExecuteTime": {
     "end_time": "2023-12-15T18:14:03.772520700Z",
     "start_time": "2023-12-15T18:14:03.742489500Z"
    }
   },
   "id": "33aec26e5ef0ce54"
  },
  {
   "cell_type": "code",
   "execution_count": 80,
   "outputs": [],
   "source": [
    "class MutationFuzzer(Fuzzer):\n",
    "    \"\"\"Base class for mutational fuzzing\"\"\"\n",
    "\n",
    "    def __init__(self, seed: List[str], min_mutations: int = 2, max_mutations: int = 10) -> None:\n",
    "        \"\"\"Constructor.\n",
    "        `seed` - a list of (input) strings to mutate.\n",
    "        `min_mutations` - the minimum number of mutations to apply.\n",
    "        `max_mutations` - the maximum number of mutations to apply.\n",
    "        \"\"\"\n",
    "        super().__init__()\n",
    "        self.seed_index = None\n",
    "        self.population = None\n",
    "        self.seed = seed\n",
    "        self.min_mutations = min_mutations\n",
    "        self.max_mutations = max_mutations\n",
    "        self.reset()\n",
    "\n",
    "    def reset(self) -> None:\n",
    "        \"\"\"Set population to initial seed.\n",
    "        To be overloaded in subclasses.\"\"\"\n",
    "        self.population = self.seed\n",
    "        self.seed_index = 0\n",
    "        \n",
    "    def delete_random_character(s: str) -> str:\n",
    "        \"\"\"Returns s with a random character deleted\"\"\"\n",
    "        if s == \"\":\n",
    "            return s\n",
    "    \n",
    "        pos = random.randint(0, len(s) - 1)\n",
    "        # print(\"Deleting\", repr(s[pos]), \"at\", pos)\n",
    "        return s[:pos] + s[pos + 1:]\n",
    "    \n",
    "    def insert_random_character(s: str) -> str:\n",
    "        \"\"\"Returns s with a random character inserted\"\"\"\n",
    "        pos = random.randint(0, len(s))\n",
    "        random_character = chr(random.randrange(32, 127))\n",
    "        # print(\"Inserting\", repr(random_character), \"at\", pos)\n",
    "        return s[:pos] + random_character + s[pos:]\n",
    "    \n",
    "    def flip_random_character(s):\n",
    "        \"\"\"Returns s with a random bit flipped in a random position\"\"\"\n",
    "        if s == \"\":\n",
    "            return s\n",
    "    \n",
    "        pos = random.randint(0, len(s) - 1)\n",
    "        c = s[pos]\n",
    "        bit = 1 << random.randint(0, 6)\n",
    "        new_c = chr(ord(c) ^ bit)\n",
    "        # print(\"Flipping\", bit, \"in\", repr(c) + \", giving\", repr(new_c))\n",
    "        return s[:pos] + new_c + s[pos + 1:]\n",
    "    \n",
    "    def mutate(self, s: str) -> str:\n",
    "        \"\"\"Return s with a random mutation applied\"\"\"\n",
    "        mutators = [\n",
    "            delete_random_character,\n",
    "            insert_random_character,\n",
    "            flip_random_character\n",
    "        ]\n",
    "        mutator = random.choice(mutators)\n",
    "        # print(mutator)\n",
    "        return mutator(s)\n",
    "    \n",
    "    def create_candidate(self) -> str:\n",
    "        \"\"\"Create a new candidate by mutating a population member\"\"\"\n",
    "        candidate = random.choice(self.population)\n",
    "        trials = random.randint(self.min_mutations, self.max_mutations)\n",
    "        for i in range(trials):\n",
    "            candidate = self.mutate(candidate)\n",
    "        return candidate\n",
    "\n",
    "    def fuzz(self) -> str:\n",
    "        if self.seed_index < len(self.seed):\n",
    "            # Still seeding\n",
    "            self.inp = self.seed[self.seed_index]\n",
    "            self.seed_index += 1\n",
    "        else:\n",
    "            # Mutating\n",
    "            self.inp = self.create_candidate()\n",
    "        return self.inp"
   ],
   "metadata": {
    "collapsed": false,
    "ExecuteTime": {
     "end_time": "2023-12-15T18:23:40.441352300Z",
     "start_time": "2023-12-15T18:23:40.431352200Z"
    }
   },
   "id": "4fdbd82f7141aa29"
  },
  {
   "cell_type": "code",
   "execution_count": 85,
   "outputs": [
    {
     "name": "stdout",
     "output_type": "stream",
     "text": [
      "http://www.google.com/search?q=fuzzing\n",
      "http:?/www.google.coMm/search?q5fuzz2ing\n",
      "http/wMww.oogle.com/search?q=fuzzinw\n",
      "httpw://www.g6oglecmm/search?q=fuzpzie\n",
      "http://www.oooYgle.comosear8ch?q5fuz~ing\n",
      "ht//www.google.com/earcqhq=fu~zing\n",
      "http:/ww/w.goo6gle.c/serch?q=fuzzing\n",
      "htt|p://www.googlecom/search?q=fuzzing\n",
      "lttp://www.gocJogle.cm/searcH?q=fuzzng\n",
      "htTp://www.g'oogle.omN/searUch?Kq=fuzzing\n",
      "http://www>google.com/search?q=fuzzinH\n",
      "http://wwgoogle.com/search~?qFN=fuz(zing\n",
      "http://www.gogle.coM/sarch?q=fuzzhng\n",
      "http:b//www,g_ooolm.cm/1earch?q=fuzzing\n",
      "xhttp://w7.googlew.com/search?q=fuzzing\n",
      "http://www.google.comq/search?q}duzzing\n",
      "http://wwwgoQogle.com/search?q=fuz$zing\n",
      "http://www.googhe.com/search?q=fuFzzing\n",
      "htt9p://ww&gkog=h.coVm/search?q=fuzziNg\n",
      "htt#p:'/ww.mogl.com/seakrch?q=fuzzi.g\n"
     ]
    }
   ],
   "source": [
    "seed_input = \"http://www.google.com/search?q=fuzzing\"\n",
    "mutation_fuzzer = MutationFuzzer(seed=[seed_input])\n",
    "for i in range(20):\n",
    "    print(mutation_fuzzer.fuzz())\n",
    "    "
   ],
   "metadata": {
    "collapsed": false,
    "ExecuteTime": {
     "end_time": "2023-12-15T18:24:50.164362700Z",
     "start_time": "2023-12-15T18:24:50.141359400Z"
    }
   },
   "id": "b3e92062adb14e64"
  }
 ],
 "metadata": {
  "kernelspec": {
   "display_name": "Python 3",
   "language": "python",
   "name": "python3"
  },
  "language_info": {
   "codemirror_mode": {
    "name": "ipython",
    "version": 2
   },
   "file_extension": ".py",
   "mimetype": "text/x-python",
   "name": "python",
   "nbconvert_exporter": "python",
   "pygments_lexer": "ipython2",
   "version": "2.7.6"
  }
 },
 "nbformat": 4,
 "nbformat_minor": 5
}
